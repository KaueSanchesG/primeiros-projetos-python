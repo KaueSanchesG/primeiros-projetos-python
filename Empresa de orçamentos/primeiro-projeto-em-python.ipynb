{
 "cells": [
  {
   "cell_type": "markdown",
   "id": "914a1b9f",
   "metadata": {},
   "source": [
    "# Primeiro projeto da semana python"
   ]
  },
  {
   "cell_type": "markdown",
   "id": "e7713b58",
   "metadata": {},
   "source": [
    "## Comando print()"
   ]
  },
  {
   "cell_type": "code",
   "execution_count": 2,
   "id": "36cef1a7",
   "metadata": {},
   "outputs": [
    {
     "name": "stdout",
     "output_type": "stream",
     "text": [
      "Imersão Python\n",
      "Sou especialista em java\n"
     ]
    }
   ],
   "source": [
    "print(\"Imersão Python\")\n",
    "print(\"Sou especialista em java\")"
   ]
  },
  {
   "cell_type": "code",
   "execution_count": null,
   "id": "a5cbea05",
   "metadata": {},
   "outputs": [],
   "source": [
    "## Entrada de dados do user "
   ]
  },
  {
   "cell_type": "code",
   "execution_count": 3,
   "id": "949b8113",
   "metadata": {},
   "outputs": [
    {
     "name": "stdout",
     "output_type": "stream",
     "text": [
      "Digite a descrição do projetoTeste Hello, World!\n"
     ]
    },
    {
     "data": {
      "text/plain": [
       "'Teste Hello, World!'"
      ]
     },
     "execution_count": 3,
     "metadata": {},
     "output_type": "execute_result"
    }
   ],
   "source": [
    "input(\"Digite a descrição do projeto: \")\n",
    "input(\"Digite as horas investidas no projeto: \")"
   ]
  },
  {
   "cell_type": "markdown",
   "id": "95c9a2a1",
   "metadata": {},
   "source": [
    "## Armazenar dados"
   ]
  },
  {
   "cell_type": "code",
   "execution_count": 8,
   "id": "45c94b13",
   "metadata": {},
   "outputs": [
    {
     "name": "stdout",
     "output_type": "stream",
     "text": [
      "Digite a descrição do projeto: Imersão python\n",
      "Digite as horas previstas: 12\n",
      "Digite o valor da hora: 12\n",
      "Digite o prazo estimado: 4 dias\n"
     ]
    }
   ],
   "source": [
    "descricao_do_projeto = input(\"Digite a descrição do projeto: \")\n",
    "horas_previstas = input(\"Digite as horas previstas: \")\n",
    "valor_da_hora = input(\"Digite o valor da hora: \")\n",
    "prazo = input(\"Digite o prazo estimado: \")"
   ]
  },
  {
   "cell_type": "code",
   "execution_count": null,
   "id": "81324003",
   "metadata": {},
   "outputs": [],
   "source": [
    "print(descricao_do_projeto)\n",
    "print(horas_previstas)\n",
    "print(valor_da_hora)\n",
    "print(prazo)"
   ]
  },
  {
   "cell_type": "markdown",
   "id": "9a239d12",
   "metadata": {},
   "source": [
    "## Calculo com python"
   ]
  },
  {
   "cell_type": "code",
   "execution_count": 9,
   "id": "61839a7f",
   "metadata": {},
   "outputs": [
    {
     "name": "stdout",
     "output_type": "stream",
     "text": [
      "144\n"
     ]
    }
   ],
   "source": [
    "valor_total = int(horas_previstas) * int(valor_da_hora)\n",
    "print(valor_total)"
   ]
  },
  {
   "cell_type": "markdown",
   "id": "e0859dc7",
   "metadata": {},
   "source": [
    "### Tipagem de dados - utilização do type\n",
    "- str texto\n",
    "- int number"
   ]
  },
  {
   "cell_type": "code",
   "execution_count": 11,
   "id": "b2030991",
   "metadata": {},
   "outputs": [
    {
     "data": {
      "text/plain": [
       "str"
      ]
     },
     "execution_count": 11,
     "metadata": {},
     "output_type": "execute_result"
    }
   ],
   "source": [
    "type(horas_previstas)"
   ]
  },
  {
   "cell_type": "markdown",
   "id": "a082f4f4",
   "metadata": {},
   "source": [
    "## Gerando o orçamento"
   ]
  },
  {
   "cell_type": "code",
   "execution_count": 16,
   "id": "589aa44e",
   "metadata": {},
   "outputs": [
    {
     "name": "stdout",
     "output_type": "stream",
     "text": [
      "Requirement already satisfied: fpdf in c:\\users\\kaues\\anaconda3\\lib\\site-packages (1.7.2)\n"
     ]
    }
   ],
   "source": [
    "!pip install fpdf"
   ]
  },
  {
   "cell_type": "code",
   "execution_count": 2,
   "id": "e32615b9",
   "metadata": {},
   "outputs": [],
   "source": [
    "from fpdf import FPDF"
   ]
  },
  {
   "cell_type": "code",
   "execution_count": 11,
   "id": "c33c8f51",
   "metadata": {},
   "outputs": [
    {
     "name": "stdout",
     "output_type": "stream",
     "text": [
      "Orçamento gerado com sucesso!!\n"
     ]
    }
   ],
   "source": [
    "# criando um pdf\n",
    "pdf = FPDF()\n",
    "\n",
    "pdf.add_page()\n",
    "pdf.set_font(\"Arial\")\n",
    "pdf.image(\"template.png\", x=0, y=0)\n",
    "\n",
    "pdf.text(115, 145, descricao_do_projeto)\n",
    "pdf.text(115, 160, horas_previstas)\n",
    "pdf.text(115, 175, valor_da_hora)\n",
    "pdf.text(115, 190, prazo)\n",
    "pdf.text(115, 205, str(valor_total))\n",
    "pdf.output(\"Orçamento.pdf\")\n",
    "print(\"Orçamento gerado com sucesso!!\")"
   ]
  },
  {
   "cell_type": "code",
   "execution_count": null,
   "id": "3a678f96",
   "metadata": {},
   "outputs": [],
   "source": []
  },
  {
   "cell_type": "code",
   "execution_count": null,
   "id": "b77157db",
   "metadata": {},
   "outputs": [],
   "source": []
  },
  {
   "cell_type": "code",
   "execution_count": null,
   "id": "adc6b09f",
   "metadata": {},
   "outputs": [],
   "source": []
  },
  {
   "cell_type": "code",
   "execution_count": null,
   "id": "c23ba86a",
   "metadata": {},
   "outputs": [],
   "source": []
  }
 ],
 "metadata": {
  "kernelspec": {
   "display_name": "Python 3 (ipykernel)",
   "language": "python",
   "name": "python3"
  },
  "language_info": {
   "codemirror_mode": {
    "name": "ipython",
    "version": 3
   },
   "file_extension": ".py",
   "mimetype": "text/x-python",
   "name": "python",
   "nbconvert_exporter": "python",
   "pygments_lexer": "ipython3",
   "version": "3.11.5"
  }
 },
 "nbformat": 4,
 "nbformat_minor": 5
}
